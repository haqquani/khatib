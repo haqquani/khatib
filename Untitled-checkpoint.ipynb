{
 "cells": [
  {
   "cell_type": "code",
   "execution_count": 7,
   "id": "b8f27da3",
   "metadata": {},
   "outputs": [
    {
     "name": "stdout",
     "output_type": "stream",
     "text": [
      "enter your correct age:\n",
      "2\n",
      "your are not eligible\n"
     ]
    }
   ],
   "source": [
    "print(\"enter your correct age:\")\n",
    "age=int(input())\n",
    "if age<18:\n",
    "    print(\"your are not eligible\")\n",
    "else:\n",
    "    print(\"eligible\")"
   ]
  },
  {
   "cell_type": "code",
   "execution_count": null,
   "id": "5523178d",
   "metadata": {},
   "outputs": [],
   "source": [
    "def num(a):\n",
    "print(+ haqquani)"
   ]
  },
  {
   "cell_type": "code",
   "execution_count": 1,
   "id": "b6930db8",
   "metadata": {},
   "outputs": [
    {
     "name": "stdout",
     "output_type": "stream",
     "text": [
      "your name\n"
     ]
    }
   ],
   "source": [
    "print(\"your name\")"
   ]
  },
  {
   "cell_type": "code",
   "execution_count": 3,
   "id": "fd60fd36",
   "metadata": {},
   "outputs": [
    {
     "name": "stdout",
     "output_type": "stream",
     "text": [
      "namehaqqani\n",
      "namefareed\n",
      "nameadeel\n"
     ]
    }
   ],
   "source": [
    "def num(a):\n",
    " print(\"name\" + a)\n",
    "\n",
    "num(\"haqqani\")\n",
    "num(\"fareed\")\n",
    "num(\"adeel\")"
   ]
  },
  {
   "cell_type": "code",
   "execution_count": 4,
   "id": "32eb629f",
   "metadata": {},
   "outputs": [
    {
     "name": "stdout",
     "output_type": "stream",
     "text": [
      "namehaqqani\n",
      "namefareed\n",
      "nameadeel\n"
     ]
    }
   ],
   "source": [
    "def num(a):\n",
    " print(\"name\" + a)\n",
    "\n",
    "num(\"haqqani\")\n",
    "num(\"fareed\")\n",
    "num(\"adeel\")"
   ]
  },
  {
   "cell_type": "code",
   "execution_count": 5,
   "id": "06e3247a",
   "metadata": {},
   "outputs": [
    {
     "name": "stdout",
     "output_type": "stream",
     "text": [
      "7\n"
     ]
    }
   ],
   "source": [
    "def add(a,b):\n",
    " print(a+b)\n",
    "  \n",
    "add(2,5)"
   ]
  },
  {
   "cell_type": "code",
   "execution_count": null,
   "id": "8bcbdb59",
   "metadata": {
    "scrolled": true
   },
   "outputs": [],
   "source": []
  },
  {
   "cell_type": "code",
   "execution_count": 3,
   "id": "34a3287a",
   "metadata": {},
   "outputs": [
    {
     "name": "stdout",
     "output_type": "stream",
     "text": [
      "enter number\n",
      "7\n",
      "8\n",
      "15\n"
     ]
    }
   ],
   "source": [
    "print(\"enter number\")\n",
    "a=int(input())\n",
    "b=int(input())\n",
    "print(a+b)"
   ]
  },
  {
   "cell_type": "code",
   "execution_count": null,
   "id": "9331e29e",
   "metadata": {},
   "outputs": [],
   "source": [
    "d=int(input())\n",
    "e=int(input())\n",
    "\n",
    "def addition(a,b):\n",
    "    c=a+b\n",
    "    print(c)\n",
    "    return c\n",
    "def sqr(c):\n",
    "    y=c*c\n",
    "    print(y)\n",
    "\n",
    "c=addition(d,e)\n",
    "g=sqr(c)"
   ]
  },
  {
   "cell_type": "markdown",
   "id": "a534e7af",
   "metadata": {},
   "source": []
  },
  {
   "cell_type": "code",
   "execution_count": 1,
   "id": "198b836f",
   "metadata": {
    "scrolled": true
   },
   "outputs": [
    {
     "ename": "KeyboardInterrupt",
     "evalue": "Interrupted by user",
     "output_type": "error",
     "traceback": [
      "\u001b[1;31m---------------------------------------------------------------------------\u001b[0m",
      "\u001b[1;31mKeyboardInterrupt\u001b[0m                         Traceback (most recent call last)",
      "Cell \u001b[1;32mIn [1], line 1\u001b[0m\n\u001b[1;32m----> 1\u001b[0m a\u001b[38;5;241m=\u001b[39m\u001b[38;5;28mint\u001b[39m(\u001b[38;5;28;43minput\u001b[39;49m\u001b[43m(\u001b[49m\u001b[43m)\u001b[49m)\n\u001b[0;32m      2\u001b[0m b\u001b[38;5;241m=\u001b[39m\u001b[38;5;28mint\u001b[39m(\u001b[38;5;28minput\u001b[39m())\n\u001b[0;32m      3\u001b[0m \u001b[38;5;28;01mdef\u001b[39;00m \u001b[38;5;21maddition\u001b[39m(a,b):\n",
      "File \u001b[1;32m~\\AppData\\Local\\Packages\\PythonSoftwareFoundation.Python.3.10_qbz5n2kfra8p0\\LocalCache\\local-packages\\Python310\\site-packages\\ipykernel\\kernelbase.py:1177\u001b[0m, in \u001b[0;36mKernel.raw_input\u001b[1;34m(self, prompt)\u001b[0m\n\u001b[0;32m   1173\u001b[0m \u001b[38;5;28;01mif\u001b[39;00m \u001b[38;5;129;01mnot\u001b[39;00m \u001b[38;5;28mself\u001b[39m\u001b[38;5;241m.\u001b[39m_allow_stdin:\n\u001b[0;32m   1174\u001b[0m     \u001b[38;5;28;01mraise\u001b[39;00m StdinNotImplementedError(\n\u001b[0;32m   1175\u001b[0m         \u001b[38;5;124m\"\u001b[39m\u001b[38;5;124mraw_input was called, but this frontend does not support input requests.\u001b[39m\u001b[38;5;124m\"\u001b[39m\n\u001b[0;32m   1176\u001b[0m     )\n\u001b[1;32m-> 1177\u001b[0m \u001b[38;5;28;01mreturn\u001b[39;00m \u001b[38;5;28;43mself\u001b[39;49m\u001b[38;5;241;43m.\u001b[39;49m\u001b[43m_input_request\u001b[49m\u001b[43m(\u001b[49m\n\u001b[0;32m   1178\u001b[0m \u001b[43m    \u001b[49m\u001b[38;5;28;43mstr\u001b[39;49m\u001b[43m(\u001b[49m\u001b[43mprompt\u001b[49m\u001b[43m)\u001b[49m\u001b[43m,\u001b[49m\n\u001b[0;32m   1179\u001b[0m \u001b[43m    \u001b[49m\u001b[38;5;28;43mself\u001b[39;49m\u001b[38;5;241;43m.\u001b[39;49m\u001b[43m_parent_ident\u001b[49m\u001b[43m[\u001b[49m\u001b[38;5;124;43m\"\u001b[39;49m\u001b[38;5;124;43mshell\u001b[39;49m\u001b[38;5;124;43m\"\u001b[39;49m\u001b[43m]\u001b[49m\u001b[43m,\u001b[49m\n\u001b[0;32m   1180\u001b[0m \u001b[43m    \u001b[49m\u001b[38;5;28;43mself\u001b[39;49m\u001b[38;5;241;43m.\u001b[39;49m\u001b[43mget_parent\u001b[49m\u001b[43m(\u001b[49m\u001b[38;5;124;43m\"\u001b[39;49m\u001b[38;5;124;43mshell\u001b[39;49m\u001b[38;5;124;43m\"\u001b[39;49m\u001b[43m)\u001b[49m\u001b[43m,\u001b[49m\n\u001b[0;32m   1181\u001b[0m \u001b[43m    \u001b[49m\u001b[43mpassword\u001b[49m\u001b[38;5;241;43m=\u001b[39;49m\u001b[38;5;28;43;01mFalse\u001b[39;49;00m\u001b[43m,\u001b[49m\n\u001b[0;32m   1182\u001b[0m \u001b[43m\u001b[49m\u001b[43m)\u001b[49m\n",
      "File \u001b[1;32m~\\AppData\\Local\\Packages\\PythonSoftwareFoundation.Python.3.10_qbz5n2kfra8p0\\LocalCache\\local-packages\\Python310\\site-packages\\ipykernel\\kernelbase.py:1219\u001b[0m, in \u001b[0;36mKernel._input_request\u001b[1;34m(self, prompt, ident, parent, password)\u001b[0m\n\u001b[0;32m   1216\u001b[0m             \u001b[38;5;28;01mbreak\u001b[39;00m\n\u001b[0;32m   1217\u001b[0m \u001b[38;5;28;01mexcept\u001b[39;00m \u001b[38;5;167;01mKeyboardInterrupt\u001b[39;00m:\n\u001b[0;32m   1218\u001b[0m     \u001b[38;5;66;03m# re-raise KeyboardInterrupt, to truncate traceback\u001b[39;00m\n\u001b[1;32m-> 1219\u001b[0m     \u001b[38;5;28;01mraise\u001b[39;00m \u001b[38;5;167;01mKeyboardInterrupt\u001b[39;00m(\u001b[38;5;124m\"\u001b[39m\u001b[38;5;124mInterrupted by user\u001b[39m\u001b[38;5;124m\"\u001b[39m) \u001b[38;5;28;01mfrom\u001b[39;00m \u001b[38;5;28mNone\u001b[39m\n\u001b[0;32m   1220\u001b[0m \u001b[38;5;28;01mexcept\u001b[39;00m \u001b[38;5;167;01mException\u001b[39;00m:\n\u001b[0;32m   1221\u001b[0m     \u001b[38;5;28mself\u001b[39m\u001b[38;5;241m.\u001b[39mlog\u001b[38;5;241m.\u001b[39mwarning(\u001b[38;5;124m\"\u001b[39m\u001b[38;5;124mInvalid Message:\u001b[39m\u001b[38;5;124m\"\u001b[39m, exc_info\u001b[38;5;241m=\u001b[39m\u001b[38;5;28;01mTrue\u001b[39;00m)\n",
      "\u001b[1;31mKeyboardInterrupt\u001b[0m: Interrupted by user"
     ]
    }
   ],
   "source": [
    "a=int(input())\n",
    "b=int(input())\n",
    "def addition(a,b):\n",
    "    c=a+b\n",
    "    print(c)\n",
    "    return c\n",
    "def square(h):\n",
    "    h=c*2\n",
    "    print(h)\n",
    "z=addition(a,b)\n",
    "v=square(c)\n"
   ]
  },
  {
   "cell_type": "code",
   "execution_count": 2,
   "id": "da991566",
   "metadata": {},
   "outputs": [
    {
     "name": "stdout",
     "output_type": "stream",
     "text": [
      "8\n",
      "it's even no\n"
     ]
    }
   ],
   "source": [
    "z=int(input())\n",
    "def table(a):\n",
    "    if a%2==0:\n",
    "        print(\"it's even no\")\n",
    "    else:\n",
    "        print(\"it's odd no\")\n",
    "    \n",
    "table(z)"
   ]
  },
  {
   "cell_type": "code",
   "execution_count": 46,
   "id": "1b63b966",
   "metadata": {},
   "outputs": [
    {
     "name": "stdout",
     "output_type": "stream",
     "text": [
      "enter no-9\n",
      "9 x 1 = 9\n",
      "9 x 2 = 18\n",
      "9 x 3 = 27\n",
      "9 x 4 = 36\n",
      "9 x 5 = 45\n",
      "9 x 6 = 54\n",
      "9 x 7 = 63\n",
      "9 x 8 = 72\n",
      "9 x 9 = 81\n",
      "9 x 10 = 90\n"
     ]
    }
   ],
   "source": [
    "a=int(input(\"enter no-\"))\n",
    "def table(a):\n",
    "    for i in range(1,11):\n",
    "        c=i*a\n",
    "        print(a,\"x\",i,\"=\",c)\n",
    "table(a)\n",
    "    "
   ]
  },
  {
   "cell_type": "code",
   "execution_count": 52,
   "id": "6e6a462a",
   "metadata": {},
   "outputs": [
    {
     "name": "stdout",
     "output_type": "stream",
     "text": [
      "enter details-address\n",
      "maulanagar\n"
     ]
    }
   ],
   "source": [
    "d={\"name\":\"haqqani\",\n",
    "  \"dob\":\"21/12/1198\",\n",
    "  \"address\":\"maulanagar\"\n",
    "}\n",
    "a=input(\"enter details-\")\n",
    "print(d[a])"
   ]
  },
  {
   "cell_type": "code",
   "execution_count": 2,
   "id": "08f35999",
   "metadata": {},
   "outputs": [
    {
     "name": "stdout",
     "output_type": "stream",
     "text": [
      "Enter password PYnative@#29\n",
      "Correct password\n"
     ]
    }
   ],
   "source": [
    "password = input('Enter password ')\n",
    "\n",
    "if password == \"PYnative@#29\":\n",
    "    print(\"Correct password\")\n",
    "else:\n",
    "    print(\"Incorrect Password\")"
   ]
  },
  {
   "cell_type": "code",
   "execution_count": 7,
   "id": "163e847c",
   "metadata": {},
   "outputs": [
    {
     "name": "stdout",
     "output_type": "stream",
     "text": [
      "4\n",
      "Wrong entry\n"
     ]
    }
   ],
   "source": [
    "def user_check(choice):\n",
    "    if choice == 1:\n",
    "        print(\"Admin\")\n",
    "    elif choice == 2:\n",
    "        print(\"Editor\")\n",
    "    elif choice == 3:\n",
    "        print(\"Guest\")\n",
    "    else:\n",
    "        print(\"Wrong entry\")\n",
    "\n",
    "user_check(int(input()))\n"
   ]
  },
  {
   "cell_type": "code",
   "execution_count": 4,
   "id": "506c52da",
   "metadata": {},
   "outputs": [
    {
     "name": "stdout",
     "output_type": "stream",
     "text": [
      "Enter first number 7\n",
      "Enter second number 5\n",
      "7 is greater than 5\n"
     ]
    }
   ],
   "source": [
    "num1 = int(input('Enter first number '))\n",
    "num2 = int(input('Enter second number '))\n",
    "\n",
    "if num1 >= num2:\n",
    "    if num1 == num2:\n",
    "        print(num1, 'and', num2, 'are equal')\n",
    "    else:\n",
    "        print(num1, 'is greater than', num2)\n",
    "else:\n",
    "    print(num1, 'is smaller than', num2)\n"
   ]
  },
  {
   "cell_type": "code",
   "execution_count": 6,
   "id": "9858355b",
   "metadata": {},
   "outputs": [
    {
     "name": "stdout",
     "output_type": "stream",
     "text": [
      "1\n",
      "2\n",
      "3\n",
      "4\n",
      "5\n",
      "6\n",
      "7\n",
      "8\n",
      "9\n",
      "10\n"
     ]
    }
   ],
   "source": [
    "i=0\n",
    "for c in range(1,11):\n",
    "         print(c)\n",
    "   "
   ]
  },
  {
   "cell_type": "code",
   "execution_count": 16,
   "id": "6031a48d",
   "metadata": {},
   "outputs": [
    {
     "name": "stdout",
     "output_type": "stream",
     "text": [
      "1\n",
      "2\n",
      "3\n",
      "4\n",
      "5\n",
      "6\n",
      "7\n",
      "8\n",
      "9\n",
      "10\n"
     ]
    }
   ],
   "source": [
    "i=1\n",
    "while i<=10:\n",
    "    print(i)\n",
    "    i=i+1"
   ]
  },
  {
   "cell_type": "code",
   "execution_count": null,
   "id": "24ffda07",
   "metadata": {},
   "outputs": [],
   "source": []
  },
  {
   "cell_type": "code",
   "execution_count": 4,
   "id": "27a11256",
   "metadata": {},
   "outputs": [
    {
     "name": "stdout",
     "output_type": "stream",
     "text": [
      "[16, 13, 14, 15, 12]\n"
     ]
    }
   ],
   "source": [
    "def list(newlist):\n",
    "    newlist[0],newlist[-1]=newlist[-1],newlist[-0]\n",
    "    return newlist\n",
    "newlist=[12,13,14,15,16]\n",
    "print(list(newlist))"
   ]
  },
  {
   "cell_type": "code",
   "execution_count": null,
   "id": "21d10e44",
   "metadata": {
    "scrolled": true
   },
   "outputs": [],
   "source": []
  },
  {
   "cell_type": "code",
   "execution_count": 7,
   "id": "011d27d0",
   "metadata": {},
   "outputs": [
    {
     "name": "stdout",
     "output_type": "stream",
     "text": [
      "[12, 13, 14, 15, 16]\n"
     ]
    }
   ],
   "source": [
    "x=[16, 13, 14, 15,12]\n",
    "x[0],x[-1]=x[-1],x[0]\n",
    "print(x)"
   ]
  },
  {
   "cell_type": "code",
   "execution_count": 1,
   "id": "11b9af66",
   "metadata": {},
   "outputs": [
    {
     "name": "stdout",
     "output_type": "stream",
     "text": [
      "Enter number 2\n",
      "1\n",
      "2\n",
      "\n",
      "\n",
      "Sum is:  3\n"
     ]
    }
   ],
   "source": [
    "# s: store sum of all numbers\n",
    "s = 0\n",
    "n = int(input(\"Enter number \"))\n",
    "# run loop n times\n",
    "# stop: n+1 (because range never include stop number in result)\n",
    "for i in range(1, n + 1, 1):\n",
    "    print(i)\n",
    "    # add current number to sum variable\n",
    "    s=i+1\n",
    "print(\"\\n\")\n",
    "print(\"Sum is: \", s)"
   ]
  },
  {
   "cell_type": "code",
   "execution_count": 11,
   "id": "78750598",
   "metadata": {},
   "outputs": [
    {
     "name": "stdout",
     "output_type": "stream",
     "text": [
      "3\n",
      "9\n",
      "12\n",
      "15\n",
      "18\n",
      "21\n",
      "24\n",
      "27\n",
      "30\n"
     ]
    }
   ],
   "source": [
    "a=int(input())\n",
    "while a<=10:\n",
    "    c=a*3\n",
    "    print(c)\n",
    "    a=a+1"
   ]
  },
  {
   "cell_type": "code",
   "execution_count": 4,
   "id": "ac65a122",
   "metadata": {},
   "outputs": [
    {
     "name": "stdout",
     "output_type": "stream",
     "text": [
      "75\n",
      "150\n",
      "180\n",
      "145\n",
      "525\n",
      "50\n"
     ]
    }
   ],
   "source": [
    "a=[12, 75, 150, 180, 145, 525, 50]\n",
    "for i in a: \n",
    "    if i%5==0:\n",
    "         print(i)  \n",
    "    elif i>150:\n",
    "        continue\n",
    "    elif i>500:\n",
    "        break\n",
    "\n",
    "    "
   ]
  },
  {
   "cell_type": "code",
   "execution_count": 54,
   "id": "fa627c08",
   "metadata": {},
   "outputs": [
    {
     "name": "stdout",
     "output_type": "stream",
     "text": [
      "75\n",
      "150\n",
      "145\n"
     ]
    }
   ],
   "source": [
    "a=[12, 75, 150, 180, 145, 525, 50]\n",
    "for i in a: \n",
    "    if  i>500:\n",
    "        break  \n",
    "    elif i>150: \n",
    "        continue\n",
    "    elif i%5==0:\n",
    "        print(i)\n",
    "    "
   ]
  },
  {
   "cell_type": "code",
   "execution_count": 23,
   "id": "311f8e77",
   "metadata": {},
   "outputs": [
    {
     "name": "stdout",
     "output_type": "stream",
     "text": [
      "[12, 75, 150, 180, 145, 525, 50]\n",
      "(50, 525, 145, 180, 150, 75, 12)\n"
     ]
    }
   ],
   "source": [
    "a=[12, 75, 150, 180, 145, 525, 50]\n",
    "b=reversed(a)\n",
    "print(a)\n",
    "print(tuple(b))\n",
    "\n"
   ]
  },
  {
   "cell_type": "code",
   "execution_count": 108,
   "id": "4372d7b8",
   "metadata": {},
   "outputs": [
    {
     "name": "stdout",
     "output_type": "stream",
     "text": [
      "-10\n",
      "-9\n",
      "-8\n",
      "-7\n",
      "-6\n",
      "-5\n",
      "-4\n",
      "-3\n",
      "-2\n",
      "-1\n"
     ]
    }
   ],
   "source": [
    "\n",
    "for c in range(-10,0):\n",
    "         print(c)"
   ]
  },
  {
   "cell_type": "code",
   "execution_count": null,
   "id": "5815e359",
   "metadata": {},
   "outputs": [],
   "source": []
  },
  {
   "cell_type": "code",
   "execution_count": 104,
   "id": "6bce4a33",
   "metadata": {},
   "outputs": [
    {
     "name": "stdout",
     "output_type": "stream",
     "text": [
      "25\n",
      "26\n",
      "27\n",
      "28\n",
      "29\n",
      "30\n",
      "31\n",
      "32\n",
      "33\n",
      "34\n",
      "35\n",
      "36\n",
      "37\n",
      "38\n",
      "39\n",
      "40\n",
      "41\n",
      "42\n",
      "43\n",
      "44\n",
      "45\n",
      "46\n",
      "47\n",
      "48\n",
      "49\n"
     ]
    }
   ],
   "source": [
    "for num in range(25,50):\n",
    "    prime = True\n",
    "    for i in range(25,num):\n",
    "        if (num%i==0):\n",
    "            prime = False\n",
    "    if prime:\n",
    "        print (num)"
   ]
  },
  {
   "cell_type": "code",
   "execution_count": 84,
   "id": "32863238",
   "metadata": {},
   "outputs": [],
   "source": []
  },
  {
   "cell_type": "code",
   "execution_count": 1,
   "id": "7edfa0c4",
   "metadata": {},
   "outputs": [],
   "source": [
    "start =25\n",
    "end=50\n",
    "for i in range(25,50):\n",
    "    prime=True\n",
    "    for k in range(25,50):\n",
    "        if (i%k==0):\n",
    "            prime =False\n",
    "            \n",
    "    if prime:\n",
    "        print(i)"
   ]
  },
  {
   "cell_type": "code",
   "execution_count": 11,
   "id": "dccdb3b7",
   "metadata": {},
   "outputs": [
    {
     "name": "stdout",
     "output_type": "stream",
     "text": [
      "1\n",
      "2\n",
      "2\n",
      "4\n",
      "3\n",
      "6\n",
      "4\n",
      "8\n"
     ]
    }
   ],
   "source": [
    "for i in range(1,5):\n",
    "    for j in range(1,3):\n",
    "        print(j*i)"
   ]
  },
  {
   "cell_type": "code",
   "execution_count": 19,
   "id": "9ffc8629",
   "metadata": {},
   "outputs": [
    {
     "name": "stdout",
     "output_type": "stream",
     "text": [
      "***\n",
      "***\n",
      "***\n",
      "***\n",
      "***\n"
     ]
    }
   ],
   "source": [
    "for i in range(1,6):\n",
    "    for j in range(1,4):\n",
    "        print(\"*\",end='')\n",
    "    print()"
   ]
  },
  {
   "cell_type": "code",
   "execution_count": 50,
   "id": "8c9d6453",
   "metadata": {},
   "outputs": [
    {
     "name": "stdout",
     "output_type": "stream",
     "text": [
      "[1, 2, 3, 4, 5]\n"
     ]
    }
   ],
   "source": [
    "a=list((1,2,3,4,5))\n",
    "  \n",
    "print(a)"
   ]
  },
  {
   "cell_type": "code",
   "execution_count": 27,
   "id": "75fe11d0",
   "metadata": {},
   "outputs": [
    {
     "name": "stdout",
     "output_type": "stream",
     "text": [
      "80\n",
      "400\n"
     ]
    }
   ],
   "source": [
    "def add(num1,num2):\n",
    "    multiplication=num1*num2\n",
    "    if multiplication<= 1000:\n",
    "        \n",
    "        return multiplication\n",
    "    else:\n",
    "        \n",
    "        return num1+num2\n",
    "print(add(50,30))\n",
    "print(add(10,40))\n",
    "    "
   ]
  },
  {
   "cell_type": "code",
   "execution_count": 42,
   "id": "60b97edc",
   "metadata": {},
   "outputs": [
    {
     "name": "stdout",
     "output_type": "stream",
     "text": [
      "23\n",
      "555\n",
      "578\n"
     ]
    }
   ],
   "source": [
    "a=int(input())\n",
    "b=int(input())\n",
    "c=a*b\n",
    "if c <=1000:\n",
    "    print(c)\n",
    "else:\n",
    "    print(a+b)"
   ]
  },
  {
   "cell_type": "code",
   "execution_count": null,
   "id": "09d360b3",
   "metadata": {},
   "outputs": [],
   "source": []
  },
  {
   "cell_type": "code",
   "execution_count": 64,
   "id": "33be17c0",
   "metadata": {},
   "outputs": [
    {
     "name": "stdout",
     "output_type": "stream",
     "text": [
      "value of i- 1 vlue of p- 0 = 1\n",
      "value of i- 2 vlue of p- 1 = 3\n",
      "value of i- 3 vlue of p- 2 = 5\n",
      "value of i- 4 vlue of p- 3 = 7\n",
      "value of i- 5 vlue of p- 4 = 9\n",
      "value of i- 6 vlue of p- 5 = 11\n",
      "value of i- 7 vlue of p- 6 = 13\n",
      "value of i- 8 vlue of p- 7 = 15\n",
      "value of i- 9 vlue of p- 8 = 17\n",
      "value of i- 10 vlue of p- 9 = 19\n"
     ]
    }
   ],
   "source": [
    "privious=0\n",
    "for i in range(1,11):\n",
    "    add=privious+i\n",
    "   \n",
    "    print(\"value of i-\",i,\"vlue of p-\",privious,\"=\",add)\n",
    "    privious=i\n",
    "   "
   ]
  },
  {
   "cell_type": "code",
   "execution_count": 85,
   "id": "5c0c0e8c",
   "metadata": {},
   "outputs": [
    {
     "name": "stdout",
     "output_type": "stream",
     "text": [
      "pynative\n",
      "p\n",
      "n\n",
      "t\n",
      "v\n"
     ]
    }
   ],
   "source": [
    "str=input()\n",
    "b=len(str)\n",
    "for i in range(0,b-1,2):\n",
    "    print(str[i])"
   ]
  },
  {
   "cell_type": "code",
   "execution_count": null,
   "id": "5aa64a93",
   "metadata": {},
   "outputs": [],
   "source": [
    "\n",
    "    "
   ]
  },
  {
   "cell_type": "code",
   "execution_count": 87,
   "id": "02eecfff",
   "metadata": {},
   "outputs": [
    {
     "name": "stdout",
     "output_type": "stream",
     "text": [
      "Removing characters from a string\n",
      "Original string: pynative\n",
      "tive\n",
      "Original string: pynative\n",
      "native\n"
     ]
    }
   ],
   "source": [
    "def remove_chars(word, n):\n",
    "    print('Original string:', word)\n",
    "    x = word[n:]\n",
    "    return x\n",
    "\n",
    "print(\"Removing characters from a string\")\n",
    "print(remove_chars(\"pynative\", 4))\n",
    "print(remove_chars(\"pynative\", 2))\n"
   ]
  },
  {
   "cell_type": "code",
   "execution_count": 93,
   "id": "b09118dc",
   "metadata": {},
   "outputs": [
    {
     "name": "stdout",
     "output_type": "stream",
     "text": [
      "10\n",
      "20\n",
      "55\n"
     ]
    }
   ],
   "source": [
    "number=[10, 20, 33, 46, 55]\n",
    "for d in number:\n",
    "    if d%5==0:\n",
    "        print(d)"
   ]
  },
  {
   "cell_type": "code",
   "execution_count": 8,
   "id": "b4d61234",
   "metadata": {},
   "outputs": [
    {
     "name": "stdout",
     "output_type": "stream",
     "text": [
      "1 \n",
      "2 2 \n",
      "3 3 3 \n",
      "4 4 4 4 \n",
      "5 5 5 5 5 \n",
      "6 6 6 6 6 6 \n",
      "7 7 7 7 7 7 7 \n",
      "8 8 8 8 8 8 8 8 \n",
      "9 9 9 9 9 9 9 9 9 \n"
     ]
    }
   ],
   "source": [
    "for i in range(1,10):\n",
    "    for j in range(i):\n",
    "        print(i,end=\" \")\n",
    "    print()\n",
    " "
   ]
  },
  {
   "cell_type": "code",
   "execution_count": 13,
   "id": "eee8b604",
   "metadata": {},
   "outputs": [
    {
     "name": "stdout",
     "output_type": "stream",
     "text": [
      "1  2  3  4  5  6  7  8  9  10  \n",
      "2  4  6  8  10  12  14  16  18  20  \n",
      "3  6  9  12  15  18  21  24  27  30  \n",
      "4  8  12  16  20  24  28  32  36  40  \n",
      "5  10  15  20  25  30  35  40  45  50  \n",
      "6  12  18  24  30  36  42  48  54  60  \n",
      "7  14  21  28  35  42  49  56  63  70  \n",
      "8  16  24  32  40  48  56  64  72  80  \n",
      "9  18  27  36  45  54  63  72  81  90  \n",
      "10  20  30  40  50  60  70  80  90  100  \n"
     ]
    }
   ],
   "source": [
    "for i in range(1,11):\n",
    "    for j in range(1,11):\n",
    "        print(i*j,end=\"  \")\n",
    "    print()\n",
    "    "
   ]
  },
  {
   "cell_type": "code",
   "execution_count": 5,
   "id": "9cedbd52",
   "metadata": {
    "scrolled": true
   },
   "outputs": [
    {
     "name": "stdout",
     "output_type": "stream",
     "text": [
      "*  *  *  *  *  *  \n",
      "*  *  *  *  *  \n",
      "*  *  *  *  \n",
      "*  *  *  \n",
      "*  *  \n",
      "*  \n"
     ]
    }
   ],
   "source": [
    "for i in range(6,0,-1):\n",
    "    for j in range(i):\n",
    "        print(\"*\",end=\"  \")\n",
    "    print()\n",
    "    \n",
    "    "
   ]
  },
  {
   "cell_type": "code",
   "execution_count": 42,
   "id": "d8c2119b",
   "metadata": {},
   "outputs": [
    {
     "name": "stdout",
     "output_type": "stream",
     "text": [
      "\n",
      "\n",
      "\n",
      "\n"
     ]
    }
   ],
   "source": [
    "for i in range(-5,-1):\n",
    "    for j in range(i+1):\n",
    "        print(\"*\",end=\"  \")\n",
    "    print()\n",
    "    \n",
    "    "
   ]
  },
  {
   "cell_type": "code",
   "execution_count": 14,
   "id": "35253432",
   "metadata": {},
   "outputs": [
    {
     "name": "stdout",
     "output_type": "stream",
     "text": [
      "True\n",
      "False\n"
     ]
    }
   ],
   "source": [
    "def number(equal):\n",
    "    a=equal[0]\n",
    "    b=equal[-1]                  \n",
    "    if a==b:      \n",
    "        return True\n",
    "    else:\n",
    "        return False\n",
    "first=[10,20,90,45,12,10]\n",
    "print(number(first))\n",
    "second=[12,23,45,67,78,90]\n",
    "print(number(second))"
   ]
  },
  {
   "cell_type": "code",
   "execution_count": 18,
   "id": "3f504718",
   "metadata": {},
   "outputs": [
    {
     "name": "stdout",
     "output_type": "stream",
     "text": [
      "qani\n",
      "ani\n"
     ]
    }
   ],
   "source": [
    "def remove(word,n):\n",
    "    x=word[n:]\n",
    "    return x\n",
    "print(remove(\"haqqani\",3))\n",
    "print(remove(\"haqqani\",4))"
   ]
  },
  {
   "cell_type": "code",
   "execution_count": 2,
   "id": "72ce61f1",
   "metadata": {},
   "outputs": [
    {
     "name": "stdout",
     "output_type": "stream",
     "text": [
      "Given income 110000\n",
      "4999.9\n",
      "2000.2\n",
      "Total tax to pay is 7000.099999999999\n"
     ]
    }
   ],
   "source": [
    "income = 110000\n",
    "tax_payable = 0\n",
    "print(\"Given income\", income)\n",
    "\n",
    "if income <= 50000:\n",
    "    tax_payable = 0\n",
    "elif income <=99999:\n",
    "   \n",
    " \n",
    "    # 20% tax\n",
    "    X=income-50000\n",
    "    tax_payable = x*10/100\n",
    "else:\n",
    "    tax_payable1=49999*10/100\n",
    "    print(tax_payable1)\n",
    "\n",
    "    # remaining 30%tax\n",
    "    tax_payable2 = (income -99999) * 20 / 100\n",
    "    print( tax_payable2)\n",
    "    \n",
    "    tax_payable =tax_payable1+tax_payable2\n",
    "print(\"Total tax to pay is\", tax_payable)\n"
   ]
  },
  {
   "cell_type": "code",
   "execution_count": 8,
   "id": "cdfa193a",
   "metadata": {},
   "outputs": [
    {
     "name": "stdout",
     "output_type": "stream",
     "text": [
      "130000\n",
      "Total income 130000\n",
      "tax on after 50k- 10000.0\n",
      "tax on after 10k- 3000.0\n",
      "Total tax to pay is 13000.0\n"
     ]
    }
   ],
   "source": [
    "income =int(input())\n",
    "tax_payable = 0\n",
    "print(\"Total income\", income)\n",
    "\n",
    "if income <= 50000:\n",
    "    tax_payable = 0\n",
    "\n",
    "elif income <=9999:\n",
    "   \n",
    " \n",
    "    # 20% tax\n",
    "    X=income-50000\n",
    "    tax_payable = x*20/100\n",
    "else:\n",
    "    tax_payable1=50000*20/100\n",
    "    print(\"tax on after 50k-\",tax_payable1)\n",
    "\n",
    "    # remaining 30%tax\n",
    "    tax_payable2 = (income -100000) * 10 / 100\n",
    "    print(\"tax on after 10k-\", tax_payable2)\n",
    "    \n",
    "    tax_payable =tax_payable1+tax_payable2\n",
    "print(\"Total tax to pay is\", tax_payable)\n"
   ]
  },
  {
   "cell_type": "code",
   "execution_count": 39,
   "id": "499fcc5b",
   "metadata": {
    "scrolled": true
   },
   "outputs": [
    {
     "name": "stdout",
     "output_type": "stream",
     "text": [
      "123\n",
      "dvhh\n",
      "enter correctpassword\n"
     ]
    }
   ],
   "source": [
    "password=input()\n",
    "while True:\n",
    "    conform=input()\n",
    "    if password==conform:\n",
    "        \n",
    "        print(\"successfull\")\n",
    "    else:\n",
    "        print(\"enter correctpassword\")\n",
    "     \n",
    "       \n",
    "\n",
    "        \n",
    "    \n"
   ]
  },
  {
   "cell_type": "markdown",
   "id": "f10ec778",
   "metadata": {},
   "source": []
  },
  {
   "cell_type": "markdown",
   "id": "21091ae8",
   "metadata": {},
   "source": []
  },
  {
   "cell_type": "code",
   "execution_count": 6,
   "id": "bb059f72",
   "metadata": {},
   "outputs": [
    {
     "name": "stdout",
     "output_type": "stream",
     "text": [
      "2\n",
      "2\n",
      "type: +, ,- ,% : -\n",
      "4\n"
     ]
    }
   ],
   "source": [
    "a=int(input())\n",
    "b=int(input())\n",
    "c=input(\"type: +, ,- ,% : \") \n",
    "if c==\"+\": print(a+b) \n",
    "elif c==\"-\": \n",
    "    print(a+b)\n",
    "elif c==\"-\": \n",
    "    print(a-b) \n",
    "elif c==\"/\":\n",
    "    print(a/b)"
   ]
  },
  {
   "cell_type": "code",
   "execution_count": null,
   "id": "d6b09c79",
   "metadata": {},
   "outputs": [],
   "source": [
    "a=input()\n",
    "if a==(a.upper()):\n",
    "    print(\"it is Uppercase\")\n",
    "elif a==(a.lower()):\n",
    "    print(\"it is lowercase\")\n",
    "    \n",
    "elif a==(a.lower())+(a.upper()):\n",
    "    print(\"It is lower upper  \")\n",
    "    \n",
    "else:\n",
    "    print(\"its upper lower\")"
   ]
  },
  {
   "cell_type": "code",
   "execution_count": 17,
   "id": "38d08a60",
   "metadata": {},
   "outputs": [
    {
     "name": "stdout",
     "output_type": "stream",
     "text": [
      "s\n",
      "lower case\n"
     ]
    }
   ],
   "source": [
    "k=input()\n",
    "if k==(k.upper()):\n",
    "    print(\"upper case\")\n",
    "else:\n",
    "    print(\"lower case\")"
   ]
  },
  {
   "cell_type": "code",
   "execution_count": 10,
   "id": "e234320f",
   "metadata": {
    "scrolled": true
   },
   "outputs": [
    {
     "name": "stdout",
     "output_type": "stream",
     "text": [
      "haqqani 22 12\n",
      "haris 20 10\n"
     ]
    }
   ],
   "source": [
    "class student:\n",
    "#     constructor\n",
    "    def __init__(self,name,age,std):\n",
    "        # instance variable\n",
    "        self.name=name\n",
    "        self.age=age\n",
    "        self.std=std  \n",
    "#         instance method\n",
    "    def studentdetails(self):\n",
    "        print(self.name,self.age,self.std)\n",
    "        \n",
    "#create frst object\n",
    "object=student(\"haqqani\",22,12)\n",
    "\n",
    "#call instance method\n",
    "object.studentdetails()\n",
    "\n",
    "# creat second object\n",
    "object2=student(\"haris\",20,10)\n",
    "\n",
    "#call instance method\n",
    "object2.studentdetails()"
   ]
  },
  {
   "cell_type": "code",
   "execution_count": 22,
   "id": "ad87ddad",
   "metadata": {},
   "outputs": [
    {
     "name": "stdout",
     "output_type": "stream",
     "text": [
      "haq 22 DAV\n",
      "haq 22 dilkash\n"
     ]
    }
   ],
   "source": [
    "class student:\n",
    "    school=\"DAV\"\n",
    "    def __init__(self,name,age):\n",
    "        \n",
    "        self.name=name\n",
    "        self.age=age\n",
    "    @classmethod\n",
    "    \n",
    "    def change(cls,name):\n",
    "        student.school=name\n",
    "    def show(self):\n",
    "        print(self.name,self.age,student.school)\n",
    "p=student(\"haq\",22)\n",
    "p.show()\n",
    "student.change(\"dilkash\")\n",
    "p.show()"
   ]
  },
  {
   "cell_type": "code",
   "execution_count": 27,
   "id": "8bacc027",
   "metadata": {},
   "outputs": [
    {
     "name": "stdout",
     "output_type": "stream",
     "text": [
      "ahmad 24\n",
      "ali 25\n"
     ]
    }
   ],
   "source": [
    "class student:\n",
    "     #[constructor: initialize instance variable]\n",
    "    def __init__(self,name, age):\n",
    "        #instance variable\n",
    "        self.name=name\n",
    "        self.age=age\n",
    "        \n",
    "#creat frst object    \n",
    "obj=student(\"ahmad\",24)\n",
    "#access instance variable\n",
    "print(obj.name,obj.age)\n",
    "\n",
    "#creat 2nd object  \n",
    "obj2=student(\"ali\",25)\n",
    "#access instance variable\n",
    "print(obj2.name,obj2.age)"
   ]
  },
  {
   "cell_type": "code",
   "execution_count": 34,
   "id": "d6aa05f3",
   "metadata": {},
   "outputs": [
    {
     "name": "stdout",
     "output_type": "stream",
     "text": [
      "12 30000 hr ali able to bonus\n",
      "12 30000 hr asgar able to bonus\n"
     ]
    }
   ],
   "source": [
    "class employee:\n",
    "    name=\"ali\"\n",
    "    #constructor\n",
    "    def __init__(self,age,salery,position):\n",
    "        self.age=age\n",
    "        self.salery=salery\n",
    "        self.position=position\n",
    "    @classmethod\n",
    "    def change(cls,newname):\n",
    "        employee.name=newname\n",
    "    #instance methon\n",
    "    def show(self):\n",
    "        print(self.age,self.salery,self.position,employee.name,self.static(self.salery))\n",
    "        \n",
    "    #staticmethod\n",
    "    @staticmethod\n",
    "    def static(salery):\n",
    "        if salery>=20000:\n",
    "            pay=\"able to bonus\"\n",
    "        else:\n",
    "            p=\"not able\"\n",
    "        return pay\n",
    "obj=employee(12,30000,\"hr\")\n",
    "obj.show()\n",
    "#change\n",
    "employee.change(\"asgar\")\n",
    "obj.show()\n",
    "    "
   ]
  },
  {
   "cell_type": "code",
   "execution_count": 39,
   "id": "30ebb78d",
   "metadata": {},
   "outputs": [
    {
     "name": "stdout",
     "output_type": "stream",
     "text": [
      "haqqani\n",
      "1000\n"
     ]
    }
   ],
   "source": [
    "class private:\n",
    "    #construstor\n",
    "    def __init__(self,name,salary):\n",
    "        #public member\n",
    "        self.name=name\n",
    "        \n",
    "        #private member\n",
    "        self.__salary=salary\n",
    "# creat object\n",
    "obj=private('haqqani',1000)\n",
    "print(obj.name)\n",
    "#direct access to private member using name mangling \n",
    "print(obj._private__salary)\n",
    "    "
   ]
  },
  {
   "cell_type": "code",
   "execution_count": 4,
   "id": "5fd85c24",
   "metadata": {},
   "outputs": [
    {
     "name": "stdout",
     "output_type": "stream",
     "text": [
      "haris 22\n",
      "haris 16\n"
     ]
    }
   ],
   "source": [
    "class student:\n",
    "    def __init__(self,name,age):\n",
    "        self.name=name\n",
    "        #private member\n",
    "        self.__age=age\n",
    "        \n",
    "    #getter method\n",
    "    def get(self):\n",
    "        return self.__age\n",
    "    \n",
    "    #setter method\n",
    "    def set(self,age):\n",
    "        self.__age=age\n",
    "        \n",
    "#creat object\n",
    "obj=student(\"haris\",22)\n",
    "print(obj.name, obj.get())\n",
    "\n",
    "# changing age using setter\n",
    "obj.set(16)\n",
    "print(obj.name, obj.get())"
   ]
  },
  {
   "cell_type": "code",
   "execution_count": 12,
   "id": "5aa0ad99",
   "metadata": {},
   "outputs": [
    {
     "name": "stdout",
     "output_type": "stream",
     "text": [
      "mobile laptop\n",
      "mobile computers\n"
     ]
    }
   ],
   "source": [
    "class shope:\n",
    "    def __init__(self,shope1,shope2):\n",
    "        self.shope1=shope1\n",
    "        self.__shope2=shope2\n",
    "    #get\n",
    "    def get(self):\n",
    "        return self.__shope2\n",
    "    #set\n",
    "    def set(self,shope2):\n",
    "            \n",
    "        self.__shope2=shope2\n",
    "obj=shope(\"mobile\",\"laptop\")\n",
    "print(obj.shope1,obj.get())\n",
    "\n",
    "#change\n",
    "obj.set(\"computers\")\n",
    "print(obj.shope1,obj.get())"
   ]
  },
  {
   "cell_type": "code",
   "execution_count": 30,
   "id": "ddb4dc0e",
   "metadata": {},
   "outputs": [
    {
     "name": "stdout",
     "output_type": "stream",
     "text": [
      "name: haqqani Roll-no: 30\n",
      "enter encorrect no Roll no\n",
      "name: haqqani Roll-no: 35\n"
     ]
    }
   ],
   "source": [
    "class student:\n",
    "    def __init__(self,name ,age,roll_no):\n",
    "        self.name=name\n",
    "        #private\n",
    "        self.__age=age\n",
    "        self.__roll_no=roll_no\n",
    "        \n",
    "    #method\n",
    "    def show(self):\n",
    "        print(\"name:\",self.name,\"Roll-no:\",self.__roll_no)\n",
    "    \n",
    "    #getter method\n",
    "    def get(self):\n",
    "        return self.__roll_no\n",
    "    #setter methon\n",
    "    def set(self,roll):\n",
    "        #condition\n",
    "        if roll >50:\n",
    "        \n",
    "            print(\"enter encorrect no Roll no\")\n",
    "        else:\n",
    "            self.__roll_no=roll\n",
    "   #creat object \n",
    "obj=student(\"haqqani\",22,30)\n",
    "obj.show()\n",
    "#after change\n",
    "obj.set(70)\n",
    "obj.set(35)\n",
    "obj.show()"
   ]
  },
  {
   "cell_type": "code",
   "execution_count": 4,
   "id": "cfaa8364",
   "metadata": {},
   "outputs": [
    {
     "name": "stdout",
     "output_type": "stream",
     "text": [
      "school name: dav school address pupri\n",
      "student name: ali s_class 10\n"
     ]
    }
   ],
   "source": [
    "#single inheritance: one child class inherit one parent class \n",
    "\n",
    "#parent class\n",
    "class school:\n",
    "    def school_info(self,name,address):\n",
    "        print(\"school name:\",name,\"school address\",address)\n",
    "#child class\n",
    "class student(school):\n",
    "    def student_info(self,s_name,s_class):\n",
    "        print('student name:',s_name,\"s_class\",s_class)\n",
    "#creat object\n",
    "obj=student()\n",
    "#access data\n",
    "obj.school_info(\"dav\",\"pupri\")\n",
    "obj.student_info(\"ali\",10)"
   ]
  },
  {
   "cell_type": "code",
   "execution_count": 9,
   "id": "0f434cb7",
   "metadata": {},
   "outputs": [
    {
     "name": "stdout",
     "output_type": "stream",
     "text": [
      "person name: ali person age: 23\n",
      "company name: Des company address: MAULANAGAR\n",
      "employee name: haqqai e_post tl\n"
     ]
    }
   ],
   "source": [
    "#multiple inheritance: one child class inherit multiple parent class\n",
    "\n",
    "#parent class1\n",
    "\n",
    "class person:\n",
    "    def person_info(self,name,age):\n",
    "        print(\"person name:\",name,\"person age:\",age)\n",
    "#parent class2\n",
    "\n",
    "class company:\n",
    "    def company_info(self,c_name,c_address):\n",
    "        print(\"company name:\",c_name,\"company address:\",c_address)\n",
    "\n",
    "#child class\n",
    "class employee(person,company):\n",
    "    def employee_info(self,e_name,e_post):\n",
    "        print(\"employee name:\",e_name,\"e_post\",e_post)\n",
    "        \n",
    "#creat object\n",
    "\n",
    "obj=employee()\n",
    "#access data\n",
    "obj.person_info(\"ali\",23)\n",
    "obj.company_info(\"Des\",\"MAULANAGAR\")\n",
    "obj.employee_info(\"haqqai\",\"tl\")\n"
   ]
  },
  {
   "cell_type": "code",
   "execution_count": 2,
   "id": "78665d01",
   "metadata": {},
   "outputs": [
    {
     "name": "stdout",
     "output_type": "stream",
     "text": [
      "school name: dav school address: maulangar\n",
      "student name: ali s_class 110\n"
     ]
    }
   ],
   "source": [
    "#parent class\n",
    "class school:\n",
    "    #constructor\n",
    "    def __init__(self,name,address):\n",
    "        self.name=name\n",
    "        self.address=address\n",
    "        print(\"school name:\",self.name,\"school address:\",self.address)\n",
    "#child class\n",
    "class student(school):\n",
    "    def student_info(self,s_name,s_class):\n",
    "        \n",
    "        print('student name:',s_name,\"s_class\",s_class)\n",
    "#creat object\n",
    "obj=student(\"dav\",\"maulangar\")\n",
    "\n",
    "#access dat\n",
    "obj.student_info(\"ali\",110)"
   ]
  },
  {
   "cell_type": "code",
   "execution_count": 5,
   "id": "ff7817b3",
   "metadata": {},
   "outputs": [
    {
     "name": "stdout",
     "output_type": "stream",
     "text": [
      "school name: DEIS school add: MAULANAGAR\n",
      "teacher name: ALI subject: SCIENCE\n",
      "student name: class 10\n"
     ]
    }
   ],
   "source": [
    "#multilevel inheritance: chain of the class\n",
    "\n",
    "#parent class\n",
    "class school:\n",
    "    def school_info(self,name,add):\n",
    "        print(\"school name:\",name,\"school add:\",add)\n",
    "        \n",
    "#child of school class\n",
    "class teacher(school):\n",
    "    def teacher_info(self,name,subject):\n",
    "        print(\"teacher name:\",name,\"subject:\",subject)\n",
    "        \n",
    "#child of teacher class\n",
    "class student(teacher):\n",
    "    def student_info(self,name,std):\n",
    "        print(\"student name:\",\"class\",std)\n",
    "#creat object\n",
    "obj=student()\n",
    "obj.school_info('DEIS',\"MAULANAGAR\")\n",
    "obj.teacher_info(\"ALI\",\"SCIENCE\")\n",
    "obj.student_info(\"AHAMD\",\"10\")"
   ]
  },
  {
   "cell_type": "code",
   "execution_count": 15,
   "id": "e3240763",
   "metadata": {},
   "outputs": [
    {
     "name": "stdout",
     "output_type": "stream",
     "text": [
      "vahicle type: 4wheeler registration no: MH 02 F 123422\n",
      "Brand name: AUDI model name: Q5\n",
      "vahicle type: 4wheelar registration no: MH 03 D 1234\n",
      "brand name: tata bus model: polo\n",
      "vahicle type: 2 wheelar registration no: MH 03 V 56877Y\n",
      "bike brand: ktm bike cc: 200cc\n"
     ]
    }
   ],
   "source": [
    "#Heirarichal inheritance: one parent class multiple child class\n",
    "\n",
    "#parent class\n",
    "class vahicle:\n",
    "    def vahicle_info(self, vahicle_type, reg_no ):\n",
    "        print(\"vahicle type:\",vahicle_type,\"registration no:\",reg_no)\n",
    "        \n",
    "#child class1\n",
    "class car(vahicle):\n",
    "    def car_info(self,brand,name):\n",
    "        print(\"Brand name:\",brand,\"model name:\",name)\n",
    "        \n",
    "#child class2\n",
    "class bus(vahicle):\n",
    "    def bus_info(self,brand,model):\n",
    "        print(\"brand name:\",brand,\"bus model:\",model)\n",
    "        \n",
    "#child class2\n",
    "class bike(vahicle):\n",
    "    def bike_info(self,brand,cc):\n",
    "        print(\"bike brand:\",brand,\"bike cc:\",cc)\n",
    "\n",
    "#creat  object FOR CAR\n",
    "obj=car()\n",
    "obj.vahicle_info(\"4wheeler\",\"MH 02 F 123422\")\n",
    "obj.car_info(\"AUDI\",\"Q5\")\n",
    "\n",
    "#CREA OBJECT FOR BUS\n",
    "obj2=bus()\n",
    "obj2.vahicle_info(\"4wheelar\",\"MH 03 D 1234\")\n",
    "obj2.bus_info(\"tata\",\"polo\")\n",
    "\n",
    " # CREAT OBJECT FOR BIKE\n",
    "obj3=bike()\n",
    "obj3.vahicle_info(\"2 wheelar\",\"MH 03 V 56877Y\")\n",
    "obj3.bike_info(\"ktm\",\"200cc\")"
   ]
  },
  {
   "cell_type": "code",
   "execution_count": 80,
   "id": "b4505336",
   "metadata": {},
   "outputs": [
    {
     "name": "stdout",
     "output_type": "stream",
     "text": [
      "all deatails: haqani\n",
      "student deatails\n",
      "teacher name\n",
      "school name\n"
     ]
    }
   ],
   "source": [
    "#hybrid inheritance: When inheritance is consists of multiple types or a combination of different inheritance\n",
    "\n",
    "#parent class\n",
    "class school:\n",
    "    def school_info(self):\n",
    "        print('school name')\n",
    "#child class\n",
    "class teacher(school):\n",
    "    def teacher_info(self):\n",
    "        print('teacher name')\n",
    "        \n",
    "#child class2\n",
    "class student(school):\n",
    "    def student_info(self):\n",
    "        print(\"student deatails\")\n",
    "        \n",
    "#child class2 \n",
    "class office(student,teacher,school):\n",
    "    def office_info(self,name):\n",
    "        print(\"all deatails:\",name)\n",
    "\n",
    "#creat obj\n",
    "obj=office()\n",
    "#ACCESS DATA\n",
    "obj.office_info(\"haqani\")\n",
    "obj.student_info()\n",
    "obj.teacher_info()\n",
    "obj.school_info()\n"
   ]
  },
  {
   "cell_type": "code",
   "execution_count": 3,
   "id": "9b80aa6d",
   "metadata": {},
   "outputs": [
    {
     "name": "stdout",
     "output_type": "stream",
     "text": [
      "Jessa works at Google\n"
     ]
    }
   ],
   "source": [
    "#uses of super\n",
    "\n",
    "class Company:\n",
    "    def company_name(self):\n",
    "        return 'Google'\n",
    "\n",
    "class Employee(Company):\n",
    "    def info(self):\n",
    "        # Calling the superclass method using super()function\n",
    "        c_name = super().company_name()\n",
    "        print(\"Jessa works at\", c_name)\n",
    "emp = Employee()\n",
    "emp.info()"
   ]
  },
  {
   "cell_type": "code",
   "execution_count": 67,
   "id": "2bb0e573",
   "metadata": {},
   "outputs": [
    {
     "name": "stdout",
     "output_type": "stream",
     "text": [
      "Name: haqqani age: 12\n",
      "school name: dav class: 6\n",
      "Date of birth: 21/1/98 complete: 8\n"
     ]
    }
   ],
   "source": [
    "  #uses of super()METHOD IN THE CONSTRUCTOR:\n",
    "#1st parent \n",
    "class person:\n",
    "   \n",
    "    def __init__(self, name,age):\n",
    "        self.name=name\n",
    "        self.age=age\n",
    "    \n",
    "#child\n",
    "class child(person):\n",
    "    def __init__(self,name,age,school,std):\n",
    "        super().__init__(name,age)\n",
    "        self.school=school \n",
    "        self.std=std\n",
    "        \n",
    "        \n",
    "class baby(child):\n",
    "    def __init__(self,name,age,school,std,dob,year):\n",
    "        super().__init__(name,age,school,std)\n",
    "        \n",
    "        self.dob=dob\n",
    "        self.year=year\n",
    "        \n",
    "        \n",
    "#method\n",
    "    def dis(self):\n",
    "        print(\"Name:\",self.name,\"age:\",self.age)\n",
    "        print(\"school name:\",self.school,\"class:\",self.std)\n",
    "        print(\"Date of birth:\",self.dob,\"complete:\",self.year,)\n",
    "        \n",
    "#acees value:\n",
    "obj=baby(\"haqqani\",12,\"dav\",6,\"21/1/98\",8)\n",
    "obj.dis()\n"
   ]
  },
  {
   "cell_type": "code",
   "execution_count": 20,
   "id": "7e3bb87a",
   "metadata": {},
   "outputs": [],
   "source": [
    "#libarary management system\n",
    "\n",
    "class Library:\n",
    "    def __init__(self,books_list):\n",
    "        self.availableBooks=books_list\n",
    "        \n",
    "    def displayAvailableBooks(self):\n",
    "        print(\"available Books in library:\")\n",
    "        for book in self.availableBooks:\n",
    "            print(book)\n",
    "    \n",
    "    def lendBOOK(self,requestedBook):\n",
    "        if requestedBook in self.availableBooks:\n",
    "            print(\"yes you can take this Book\")\n",
    "        else:\n",
    "            print(\"sorry, this book is note available\")\n",
    "            \n",
    "            \n",
    "class student:\n",
    "    def requestBook(self):\n",
    "        print(\"enter book name  u would like to take\")\n",
    "        self.book=input()\n",
    "        return self.book\n",
    "    \n",
    "    def returnBook(self):\n",
    "        print(\"enter book name you would like to return\")\n",
    "        self.book=input()\n",
    "        return self.book\n",
    "\n",
    "def main():\n",
    "    L=Library([\"physics\",\"chemistry\",\"Bioligy\",\"english\",\"urdu\"])\n",
    "    S=student()\n",
    "    done=False\n",
    "    while done==False: \n",
    "        print(\"\"\"====LIBRARY MENU====\n",
    "              1.show available books\n",
    "              2.Request for book\n",
    "              3.Return a book\n",
    "              4.Exit\n",
    "              \"\"\")\n",
    "        choice=int(input(\"enter no\"))\n",
    "        \n",
    "        if choice==1:\n",
    "            \n",
    "            L.displayAvailableBooks()\n",
    "        elif choice==2:\n",
    "            \n",
    "            L.lendBOOK(S.requestBook())\n",
    "        elif choice==3:\n",
    "            L.addBOOK(S.returnBook())\n",
    "        elif choice==4:\n",
    "            sys.exit()\n",
    "        \n",
    "    "
   ]
  },
  {
   "cell_type": "code",
   "execution_count": null,
   "id": "40179340",
   "metadata": {
    "scrolled": true
   },
   "outputs": [
    {
     "name": "stdout",
     "output_type": "stream",
     "text": [
      "enter choice as per requirment\n",
      "1.Diplay Books\n",
      "2.Lend a books\n",
      "3.Add  a Books\n",
      "4.Return a books\n",
      "1\n",
      "following Books are available: {self.user}\n",
      "physics\n",
      "chemitry\n",
      "boilogy\n",
      "english\n",
      "urdu\n",
      "enter choice as per requirment\n",
      "1.Diplay Books\n",
      "2.Lend a books\n",
      "3.Add  a Books\n",
      "4.Return a books\n",
      "2\n",
      "enter name of the book you want to lend:physics\n",
      "enter you name\"haqqani\"\n",
      "lender book database has been updated,u can take book\n",
      "enter choice as per requirment\n",
      "1.Diplay Books\n",
      "2.Lend a books\n",
      "3.Add  a Books\n",
      "4.Return a books\n",
      "2\n",
      "enter name of the book you want to lend:physics\n",
      "enter you name\"haris\"\n",
      "some one has been taken his book\n",
      "enter choice as per requirment\n",
      "1.Diplay Books\n",
      "2.Lend a books\n",
      "3.Add  a Books\n",
      "4.Return a books\n"
     ]
    }
   ],
   "source": [
    "#libarary management system\n",
    "\n",
    "class Library:\n",
    "    def __init__(self,list,name):\n",
    "        self.B_list=list\n",
    "        self.name=name\n",
    "        self.lendDic={}\n",
    "        \n",
    "    def displayBooks(self):\n",
    "        print (\"following Books are available: {self.user}\")\n",
    "        for book in self.B_list:\n",
    "            print(book)\n",
    "            \n",
    "    def lendBook(self,user,book):\n",
    "        if book not in self.lendDic.keys():\n",
    "            self.lendDic.update({book:user})\n",
    "            print(\"lender book database has been updated,u can take book\")\n",
    "        else:\n",
    "            print(\"some one has been taken his book\")\n",
    "    \n",
    "    def addBook(self,book):\n",
    "        self.B_list.append(book)\n",
    "        print(\"book has been added in book list \")\n",
    "        \n",
    "        \n",
    "    def returnBook(self,book):\n",
    "        self.B_list.remove(book)\n",
    "        \n",
    "if __name__== '__main__':\n",
    "    \n",
    "    l=Library(['physics','chemitry','boilogy','english','urdu'],\"haqqani\")\n",
    "    \n",
    "    while(True):\n",
    "        print(\"enter choice as per requirment\")\n",
    "        print(\"1.Diplay Books\")\n",
    "        print(\"2.Lend a books\")\n",
    "        print(\"3.Add  a Books\")\n",
    "        print(\"4.Return a books\")\n",
    "        user_choice=int(input())\n",
    "        \n",
    "        if user_choice==1:\n",
    "            l.displayBooks()\n",
    "            \n",
    "        elif user_choice==2:\n",
    "            book=input(\"enter name of the book you want to lend:\")\n",
    "            user=input(\"enter you name\")\n",
    "            l.lendBook(user,book)\n",
    "            \n",
    "        elif user_choice==3:\n",
    "            book=input(\"enter name of the book you want to add\")\n",
    "            l.addbook(book)\n",
    "        elif user_choice==4:\n",
    "            book=input(\"enter name of the book you want to return\")\n",
    "            l.returnBook(book)\n",
    "        else:\n",
    "            print(\"not a valid option\")\n",
    "            \n",
    "        \n",
    "            "
   ]
  },
  {
   "cell_type": "code",
   "execution_count": null,
   "id": "04cdfadd",
   "metadata": {},
   "outputs": [],
   "source": []
  },
  {
   "cell_type": "code",
   "execution_count": null,
   "id": "dd4e1595",
   "metadata": {},
   "outputs": [],
   "source": []
  },
  {
   "cell_type": "code",
   "execution_count": null,
   "id": "78f9635b",
   "metadata": {},
   "outputs": [],
   "source": []
  }
 ],
 "metadata": {
  "kernelspec": {
   "display_name": "Python 3 (ipykernel)",
   "language": "python",
   "name": "python3"
  },
  "language_info": {
   "codemirror_mode": {
    "name": "ipython",
    "version": 3
   },
   "file_extension": ".py",
   "mimetype": "text/x-python",
   "name": "python",
   "nbconvert_exporter": "python",
   "pygments_lexer": "ipython3",
   "version": "3.10.8"
  }
 },
 "nbformat": 4,
 "nbformat_minor": 5
}
